{
 "cells": [
  {
   "cell_type": "code",
   "execution_count": 1,
   "id": "3b7757a1-5446-400b-8cc9-c2d08eb3bc85",
   "metadata": {},
   "outputs": [],
   "source": [
    "x=[1.13,1.55,1.43,0.92,1.25,1.36,1.32,0.85,1.07,1.48,1.20,1.33,1.18,1.22,1.29]"
   ]
  },
  {
   "cell_type": "code",
   "execution_count": 5,
   "id": "b8cd985c-538f-48aa-847b-28a8db41c600",
   "metadata": {},
   "outputs": [
    {
     "data": {
      "text/plain": [
       "1.2386666666666666"
      ]
     },
     "execution_count": 5,
     "metadata": {},
     "output_type": "execute_result"
    }
   ],
   "source": [
    "import numpy as np\n",
    "x_bar=np.mean(x)\n",
    "x_bar"
   ]
  },
  {
   "cell_type": "code",
   "execution_count": 28,
   "id": "c8334401-3769-4263-a79a-1045081329fa",
   "metadata": {},
   "outputs": [],
   "source": [
    "## construct 99% ci for the mean\n",
    "n=15\n",
    "ci=0.99\n",
    "alpha=0.01\n",
    "## x_bar +- tcritical *s/sqrt(n) -- t test with CI "
   ]
  },
  {
   "cell_type": "code",
   "execution_count": 14,
   "id": "bdf88fb1-b39a-43ad-8ddf-d067377fd257",
   "metadata": {},
   "outputs": [
    {
     "data": {
      "text/plain": [
       "array([-0.10866667,  0.31133333,  0.19133333, -0.31866667,  0.01133333,\n",
       "        0.12133333,  0.08133333, -0.38866667, -0.16866667,  0.24133333,\n",
       "       -0.03866667,  0.09133333, -0.05866667, -0.01866667,  0.05133333])"
      ]
     },
     "execution_count": 14,
     "metadata": {},
     "output_type": "execute_result"
    }
   ],
   "source": [
    "a=(x-x_bar)\n",
    "a"
   ]
  },
  {
   "cell_type": "code",
   "execution_count": 16,
   "id": "c383f7e8-6533-4064-8be1-40e6a12d2a6e",
   "metadata": {},
   "outputs": [
    {
     "data": {
      "text/plain": [
       "array([1.18084444e-02, 9.69284444e-02, 3.66084444e-02, 1.01548444e-01,\n",
       "       1.28444444e-04, 1.47217778e-02, 6.61511111e-03, 1.51061778e-01,\n",
       "       2.84484444e-02, 5.82417778e-02, 1.49511111e-03, 8.34177778e-03,\n",
       "       3.44177778e-03, 3.48444444e-04, 2.63511111e-03])"
      ]
     },
     "execution_count": 16,
     "metadata": {},
     "output_type": "execute_result"
    }
   ],
   "source": [
    "b=a**2\n",
    "b"
   ]
  },
  {
   "cell_type": "code",
   "execution_count": 20,
   "id": "86eda354-2430-47ac-b56e-03aa3c9bd965",
   "metadata": {},
   "outputs": [
    {
     "data": {
      "text/plain": [
       "0.5223733333333335"
      ]
     },
     "execution_count": 20,
     "metadata": {},
     "output_type": "execute_result"
    }
   ],
   "source": [
    "s=sum(b)\n",
    "s"
   ]
  },
  {
   "cell_type": "code",
   "execution_count": 22,
   "id": "1aa65daa-a0d9-4f9b-85b2-53b6c0fd9b74",
   "metadata": {},
   "outputs": [
    {
     "data": {
      "text/plain": [
       "0.19316412956959936"
      ]
     },
     "execution_count": 22,
     "metadata": {},
     "output_type": "execute_result"
    }
   ],
   "source": [
    "std=np.sqrt(s/14)\n",
    "std"
   ]
  },
  {
   "cell_type": "code",
   "execution_count": 10,
   "id": "443a7b3a-1883-4237-b8a3-b840fea92d27",
   "metadata": {},
   "outputs": [
    {
     "data": {
      "text/plain": [
       "2.976842734370834"
      ]
     },
     "execution_count": 10,
     "metadata": {},
     "output_type": "execute_result"
    }
   ],
   "source": [
    "import scipy.stats as stats\n",
    "t_critical=stats.t.ppf(0.995,14)\n",
    "t_critical"
   ]
  },
  {
   "cell_type": "code",
   "execution_count": 30,
   "id": "c9ffb2b8-a266-4a02-933e-479d40555ead",
   "metadata": {},
   "outputs": [
    {
     "data": {
      "text/plain": [
       "0.8371613868969641"
      ]
     },
     "execution_count": 30,
     "metadata": {},
     "output_type": "execute_result"
    }
   ],
   "source": [
    "lower_lim=x_bar-t_critical*(s/np.sqrt(n))\n",
    "lower_lim"
   ]
  },
  {
   "cell_type": "code",
   "execution_count": 32,
   "id": "5a83dc78-081a-4d5a-a771-27eeb05ad9d6",
   "metadata": {},
   "outputs": [
    {
     "data": {
      "text/plain": [
       "1.640171946436369"
      ]
     },
     "execution_count": 32,
     "metadata": {},
     "output_type": "execute_result"
    }
   ],
   "source": [
    "upper_lim=x_bar+t_critical*(s/np.sqrt(n))\n",
    "upper_lim"
   ]
  },
  {
   "cell_type": "code",
   "execution_count": null,
   "id": "8e617623-8848-4cb1-a697-7e5be7fc13a7",
   "metadata": {},
   "outputs": [],
   "source": [
    "## hence the confidence interval for the mean number of characters printed before failure ranges from 0.8371 to 1.640\n"
   ]
  },
  {
   "cell_type": "code",
   "execution_count": null,
   "id": "00f98104-3023-44be-a481-ed79309b2ee3",
   "metadata": {},
   "outputs": [],
   "source": [
    "#b) build 99% ci using known popln std "
   ]
  },
  {
   "cell_type": "code",
   "execution_count": 43,
   "id": "72606a1d-a134-42a4-8cbb-8e0deddf47a0",
   "metadata": {},
   "outputs": [],
   "source": [
    "sigma=0.2\n",
    "x=[1.13,1.55,1.43,0.92,1.25,1.36,1.32,0.85,1.07,1.48,1.20,1.33,1.18,1.22,1.29]"
   ]
  },
  {
   "cell_type": "code",
   "execution_count": 45,
   "id": "d0898057-794c-487c-9434-8c70c153be91",
   "metadata": {},
   "outputs": [
    {
     "data": {
      "text/plain": [
       "1.2386666666666666"
      ]
     },
     "execution_count": 45,
     "metadata": {},
     "output_type": "execute_result"
    }
   ],
   "source": [
    "x_bar=np.mean(x)\n",
    "x_bar"
   ]
  },
  {
   "cell_type": "code",
   "execution_count": 36,
   "id": "0c32001e-98a1-4bf0-8fee-c0f136457ae3",
   "metadata": {},
   "outputs": [],
   "source": [
    "import scipy.stats as stats"
   ]
  },
  {
   "cell_type": "code",
   "execution_count": 39,
   "id": "dbdc3494-fedc-463b-86aa-db46cf60fd28",
   "metadata": {},
   "outputs": [
    {
     "data": {
      "text/plain": [
       "2.5758293035489004"
      ]
     },
     "execution_count": 39,
     "metadata": {},
     "output_type": "execute_result"
    }
   ],
   "source": [
    "z_critical=stats.norm.ppf(0.995)\n",
    "z_critical"
   ]
  },
  {
   "cell_type": "code",
   "execution_count": 47,
   "id": "9ee563ec-1114-44ed-b83c-a20e411aaf86",
   "metadata": {},
   "outputs": [
    {
     "data": {
      "text/plain": [
       "1.1056514133957607"
      ]
     },
     "execution_count": 47,
     "metadata": {},
     "output_type": "execute_result"
    }
   ],
   "source": [
    "lower_lim=x_bar-z_critical*(sigma/np.sqrt(n))\n",
    "lower_lim"
   ]
  },
  {
   "cell_type": "code",
   "execution_count": 49,
   "id": "ece48a58-46ee-4255-aa69-9388cb3d0ccf",
   "metadata": {},
   "outputs": [
    {
     "data": {
      "text/plain": [
       "1.3716819199375725"
      ]
     },
     "execution_count": 49,
     "metadata": {},
     "output_type": "execute_result"
    }
   ],
   "source": [
    "upper_lim=x_bar+z_critical*(sigma/np.sqrt(n))\n",
    "upper_lim"
   ]
  },
  {
   "cell_type": "code",
   "execution_count": null,
   "id": "336573a2-b7ae-4a7d-98eb-50b02753b048",
   "metadata": {},
   "outputs": [],
   "source": [
    "## here the confidence interval for mean number of characters printed before failure lies betw 1.105 to 1.371"
   ]
  }
 ],
 "metadata": {
  "kernelspec": {
   "display_name": "Python 3 (ipykernel)",
   "language": "python",
   "name": "python3"
  },
  "language_info": {
   "codemirror_mode": {
    "name": "ipython",
    "version": 3
   },
   "file_extension": ".py",
   "mimetype": "text/x-python",
   "name": "python",
   "nbconvert_exporter": "python",
   "pygments_lexer": "ipython3",
   "version": "3.12.4"
  }
 },
 "nbformat": 4,
 "nbformat_minor": 5
}
