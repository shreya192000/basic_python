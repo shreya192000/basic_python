{
 "cells": [
  {
   "cell_type": "code",
   "execution_count": 3,
   "id": "1d61a686-f61f-4118-bfae-de6d9272a223",
   "metadata": {},
   "outputs": [
    {
     "name": "stdin",
     "output_type": "stream",
     "text": [
      "Enter the number:  2\n"
     ]
    },
    {
     "name": "stdout",
     "output_type": "stream",
     "text": [
      "2 is prime\n"
     ]
    }
   ],
   "source": [
    "# Exercise 1) check prime or not\n",
    "n=int(input(\"Enter the number: \"))\n",
    "# prime number is only divisible by 1 and by itself\n",
    "for i in range (2,n):\n",
    "    if((n%i)==0):\n",
    "        print(n,'is not prime')\n",
    "        break\n",
    "else:\n",
    "        print(n,'is prime')"
   ]
  },
  {
   "cell_type": "code",
   "execution_count": 8,
   "id": "a1a7832a-3cf4-4a43-af10-bb4a828248d6",
   "metadata": {},
   "outputs": [
    {
     "data": {
      "text/plain": [
       "4"
      ]
     },
     "execution_count": 8,
     "metadata": {},
     "output_type": "execute_result"
    }
   ],
   "source": [
    "## Exercise 2) generates two random numbers and asks the user to enter the product of these numbers.\n",
    "import random\n",
    "num1=random.randint(1,10)\n",
    "num1"
   ]
  },
  {
   "cell_type": "code",
   "execution_count": 10,
   "id": "20eb9705-baba-4482-a2d8-a23c7107a091",
   "metadata": {},
   "outputs": [
    {
     "data": {
      "text/plain": [
       "2"
      ]
     },
     "execution_count": 10,
     "metadata": {},
     "output_type": "execute_result"
    }
   ],
   "source": [
    "num2=random.randint(1,10)\n",
    "num2"
   ]
  },
  {
   "cell_type": "code",
   "execution_count": 12,
   "id": "ecbf110d-158d-4075-99c1-c29a6c3fe636",
   "metadata": {},
   "outputs": [
    {
     "data": {
      "text/plain": [
       "8"
      ]
     },
     "execution_count": 12,
     "metadata": {},
     "output_type": "execute_result"
    }
   ],
   "source": [
    "product=num1*num2\n",
    "product"
   ]
  },
  {
   "cell_type": "code",
   "execution_count": 2,
   "id": "ed292233-a99e-465a-b464-3d483a8602b0",
   "metadata": {},
   "outputs": [
    {
     "name": "stdin",
     "output_type": "stream",
     "text": [
      "what is the product of {num1}and {num2} ? 40\n"
     ]
    }
   ],
   "source": [
    "user_answer=int(input('what is the product of {num1}and {num2} ?'))"
   ]
  },
  {
   "cell_type": "code",
   "execution_count": 14,
   "id": "bec1b49b-03c3-44fb-b2c8-97a96f7de3f8",
   "metadata": {},
   "outputs": [
    {
     "name": "stdout",
     "output_type": "stream",
     "text": [
      "sorry its wrong\n"
     ]
    }
   ],
   "source": [
    "if user_answer==product:\n",
    "    print(\"correct\")\n",
    "else:\n",
    "    print(\"sorry its wrong\")"
   ]
  },
  {
   "cell_type": "code",
   "execution_count": 16,
   "id": "d40daf56-09b8-406b-873d-ecd8c878c4e0",
   "metadata": {},
   "outputs": [
    {
     "name": "stdout",
     "output_type": "stream",
     "text": [
      "[10000, 10404, 10816, 11236, 11664, 12100, 12544, 12996, 13456, 13924, 14400, 14884, 15376, 15876, 16384, 16900, 17424, 17956, 18496, 19044, 19600, 20164, 20736, 21316, 21904, 22500, 23104, 23716, 24336, 24964, 25600, 26244, 26896, 27556, 28224, 28900, 29584, 30276, 30976, 31684, 32400, 33124, 33856, 34596, 35344, 36100, 36864, 37636, 38416, 39204, 40000]\n"
     ]
    }
   ],
   "source": [
    "# Exercise 3) Create a Python script that prints the squares of all even or odd numbers within the range of 100 to 200.\n",
    "# Choose either even or odd numbers and document your choice in the code.\n",
    "choice=\"even\"\n",
    "numbers=range(100,201)\n",
    "squares=[]\n",
    "for num in numbers:\n",
    "    if choice==\"even\" and num%2 ==0:\n",
    "        squares.append(num**2)\n",
    "    elif choice == \"odd\" and num%2 != 0:\n",
    "        squares.append(num**2)\n",
    "print(squares)"
   ]
  },
  {
   "cell_type": "code",
   "execution_count": null,
   "id": "b9965603-0099-41c4-a305-a0b0def668f8",
   "metadata": {},
   "outputs": [],
   "source": [
    "## Exercise 4) write a program to count the number of words in a given text."
   ]
  },
  {
   "cell_type": "code",
   "execution_count": 9,
   "id": "3376b101-e6f0-42fb-bf21-dcfc628a1f3d",
   "metadata": {},
   "outputs": [],
   "source": [
    "text=\"This is a sample text. This text will be used to demonstrate the word counter\""
   ]
  },
  {
   "cell_type": "code",
   "execution_count": 5,
   "id": "9340360f-f71c-4c5d-a59b-7d3bc8017bc0",
   "metadata": {},
   "outputs": [
    {
     "name": "stdout",
     "output_type": "stream",
     "text": [
      "3\n"
     ]
    }
   ],
   "source": [
    "print(s.count('a'))"
   ]
  },
  {
   "cell_type": "code",
   "execution_count": 11,
   "id": "03948b5f-f434-45a7-9926-0c59a25feff3",
   "metadata": {},
   "outputs": [
    {
     "data": {
      "text/plain": [
       "3"
      ]
     },
     "execution_count": 11,
     "metadata": {},
     "output_type": "execute_result"
    }
   ],
   "source": [
    "p=text.count(\"is\")\n",
    "p"
   ]
  },
  {
   "cell_type": "code",
   "execution_count": 15,
   "id": "1098ae10-4ebc-4570-b392-ff99021ea6ec",
   "metadata": {},
   "outputs": [
    {
     "data": {
      "text/plain": [
       "3"
      ]
     },
     "execution_count": 15,
     "metadata": {},
     "output_type": "execute_result"
    }
   ],
   "source": [
    "q=text.count(\"a\")\n",
    "q"
   ]
  },
  {
   "cell_type": "code",
   "execution_count": 66,
   "id": "8796a1cc-5310-473b-8352-03e48d4c9663",
   "metadata": {},
   "outputs": [
    {
     "data": {
      "text/plain": [
       "1"
      ]
     },
     "execution_count": 66,
     "metadata": {},
     "output_type": "execute_result"
    }
   ],
   "source": [
    "x=text.count(\"sample\")\n",
    "x"
   ]
  },
  {
   "cell_type": "code",
   "execution_count": 17,
   "id": "c434ffea-648b-4423-8c43-41b441d7be5a",
   "metadata": {},
   "outputs": [
    {
     "data": {
      "text/plain": [
       "2"
      ]
     },
     "execution_count": 17,
     "metadata": {},
     "output_type": "execute_result"
    }
   ],
   "source": [
    "y=text.count(\"text\")\n",
    "y"
   ]
  },
  {
   "cell_type": "code",
   "execution_count": null,
   "id": "cedb84c9-2511-4e37-835c-7db2b466d921",
   "metadata": {},
   "outputs": [],
   "source": [
    "## Exercise 5) pallindrome"
   ]
  },
  {
   "cell_type": "code",
   "execution_count": 70,
   "id": "e92ad8d9-248b-4b36-8176-b7d423f8d10f",
   "metadata": {},
   "outputs": [],
   "source": [
    "def is_palindrome(s):\n",
    "    s=s.replace(\" \",\"\").lower() # remove space and convert to lower case\n",
    "    return s == s[::-1]"
   ]
  },
  {
   "cell_type": "code",
   "execution_count": 74,
   "id": "a458870c-7fe2-4c8b-9875-3d92ffa69bc4",
   "metadata": {},
   "outputs": [
    {
     "name": "stdin",
     "output_type": "stream",
     "text": [
      "enter the string:  Race car\n"
     ]
    },
    {
     "name": "stdout",
     "output_type": "stream",
     "text": [
      "the string is a palindrome\n"
     ]
    }
   ],
   "source": [
    "str=input(\"enter the string: \")\n",
    "if is_palindrome(str):\n",
    "    print(\"the string is a palindrome\")\n",
    "else:\n",
    "    print(\"the string is not a palindrome\")"
   ]
  },
  {
   "cell_type": "code",
   "execution_count": null,
   "id": "c0e19a5d-cc84-4307-8f91-eadb2305bc99",
   "metadata": {},
   "outputs": [],
   "source": []
  },
  {
   "cell_type": "code",
   "execution_count": null,
   "id": "460ec8ee-679e-45b5-87cf-b7a305a2d4e0",
   "metadata": {},
   "outputs": [],
   "source": []
  }
 ],
 "metadata": {
  "kernelspec": {
   "display_name": "Python 3 (ipykernel)",
   "language": "python",
   "name": "python3"
  },
  "language_info": {
   "codemirror_mode": {
    "name": "ipython",
    "version": 3
   },
   "file_extension": ".py",
   "mimetype": "text/x-python",
   "name": "python",
   "nbconvert_exporter": "python",
   "pygments_lexer": "ipython3",
   "version": "3.12.4"
  }
 },
 "nbformat": 4,
 "nbformat_minor": 5
}
