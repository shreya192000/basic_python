{
 "cells": [
  {
   "cell_type": "markdown",
   "id": "5dd3f459-f39f-405d-804d-6b0399e5806f",
   "metadata": {},
   "source": [
    "# Chi-square testing"
   ]
  },
  {
   "cell_type": "code",
   "execution_count": 1,
   "id": "58e5c818-0732-4dc2-9423-241b7c6bffb8",
   "metadata": {},
   "outputs": [],
   "source": [
    "## H0: there is no association btw the smart home device(smart_thermostat vs smart light) and customer satisfaction level\n",
    "## H1: there is an association btw the variables.\n",
    "alpha=0.05\n",
    "import scipy.stats as stats"
   ]
  },
  {
   "cell_type": "code",
   "execution_count": 2,
   "id": "954bf3ed-3376-4be5-ac3a-6fc4b39051b8",
   "metadata": {},
   "outputs": [
    {
     "data": {
      "text/plain": [
       "array([[ 50,  80,  60,  30,  20],\n",
       "       [ 70, 100,  90,  50,  50]])"
      ]
     },
     "execution_count": 2,
     "metadata": {},
     "output_type": "execute_result"
    }
   ],
   "source": [
    "import numpy as np\n",
    "observed=np.array([[50,80,60,30,20],[70,100,90,50,50]])\n",
    "observed"
   ]
  },
  {
   "cell_type": "code",
   "execution_count": 3,
   "id": "96d8aca1-e8fa-4878-bd41-caedcc5b6248",
   "metadata": {},
   "outputs": [
    {
     "data": {
      "text/plain": [
       "Chi2ContingencyResult(statistic=5.638227513227513, pvalue=0.22784371130697179, dof=4, expected_freq=array([[ 48.,  72.,  60.,  32.,  28.],\n",
       "       [ 72., 108.,  90.,  48.,  42.]]))"
      ]
     },
     "execution_count": 3,
     "metadata": {},
     "output_type": "execute_result"
    }
   ],
   "source": [
    "expected=stats.chi2_contingency(observed)\n",
    "expected"
   ]
  },
  {
   "cell_type": "code",
   "execution_count": 4,
   "id": "042328a2-9921-4c88-8ec9-6ce47f1a2bb6",
   "metadata": {},
   "outputs": [
    {
     "data": {
      "text/plain": [
       "9.487729036781154"
      ]
     },
     "execution_count": 4,
     "metadata": {},
     "output_type": "execute_result"
    }
   ],
   "source": [
    "chi_critical=stats.chi2.ppf(0.95,4)\n",
    "chi_critical"
   ]
  },
  {
   "cell_type": "code",
   "execution_count": 5,
   "id": "fce6cb9c-2205-4b48-b333-65d6a8d9c1ad",
   "metadata": {},
   "outputs": [],
   "source": [
    "# chi-square statistic =5.63 < chi_critical=9.48, fails to reject null hypothesis H0\n",
    "# so there is no significant association between the type of smart home device (Smart Thermostat vs. Smart Light) and customer satisfaction."
   ]
  },
  {
   "cell_type": "markdown",
   "id": "7590e338-76d2-447f-a404-f5c1c1948f3b",
   "metadata": {},
   "source": [
    "# Hypothesis testing"
   ]
  },
  {
   "cell_type": "code",
   "execution_count": 28,
   "id": "d5d7113e-7a19-4ffa-bcc5-97009ac5d790",
   "metadata": {},
   "outputs": [],
   "source": [
    "sample_mean=3050\n",
    "n=25\n",
    "std_dev_units=25\n",
    "units_produced_weak=600\n",
    "theoretical_mean = 1000 + 5*units_produced_weak\n",
    "alpha=0.05\n",
    "std_dev=5*std_dev_units"
   ]
  },
  {
   "cell_type": "code",
   "execution_count": null,
   "id": "bf1de9dd-4fce-4d92-b2db-289543c28045",
   "metadata": {},
   "outputs": [],
   "source": [
    "# H0---The weekly operating costs are lesser than the theoretical model (mean = theoretical mean)\n",
    "# Ha---The weekly operating costs are higher than the theoretical model"
   ]
  },
  {
   "cell_type": "code",
   "execution_count": 26,
   "id": "8a074f60-0fc0-4db2-aada-6692e0b3da8e",
   "metadata": {},
   "outputs": [],
   "source": [
    "import math"
   ]
  },
  {
   "cell_type": "code",
   "execution_count": 32,
   "id": "ae0c2c7d-3c0c-430d-8fe6-0d892c1983b9",
   "metadata": {},
   "outputs": [
    {
     "data": {
      "text/plain": [
       "-38.0"
      ]
     },
     "execution_count": 32,
     "metadata": {},
     "output_type": "execute_result"
    }
   ],
   "source": [
    "t_stat=(sample_mean-theoretical_mean)/(std_dev/math.sqrt(n))\n",
    "t_stat"
   ]
  },
  {
   "cell_type": "code",
   "execution_count": 24,
   "id": "634834cf-f346-4196-8d0d-256f787f92f6",
   "metadata": {},
   "outputs": [
    {
     "data": {
      "text/plain": [
       "1.6448536269514722"
      ]
     },
     "execution_count": 24,
     "metadata": {},
     "output_type": "execute_result"
    }
   ],
   "source": [
    "critical_value=stats.norm.ppf(1-alpha)\n",
    "critical_value"
   ]
  },
  {
   "cell_type": "code",
   "execution_count": 34,
   "id": "05e5038b-f4f3-4c32-9daf-8d06c70e770b",
   "metadata": {},
   "outputs": [],
   "source": [
    "# t_stat < critical_value so we fail to reject the null hypothesis H0\n",
    "# The weekly operating costs are lesser than the theoretical model\n",
    "# sample mean is lower than the theoretical mean"
   ]
  },
  {
   "cell_type": "code",
   "execution_count": null,
   "id": "032976df-4000-4d2a-a3fd-550680227a2d",
   "metadata": {},
   "outputs": [],
   "source": []
  },
  {
   "cell_type": "code",
   "execution_count": null,
   "id": "3ef7dc5b-77ba-4785-854e-687273465bfb",
   "metadata": {},
   "outputs": [],
   "source": []
  },
  {
   "cell_type": "code",
   "execution_count": null,
   "id": "731cff1f-bd78-4764-a6e0-a58678021241",
   "metadata": {},
   "outputs": [],
   "source": []
  }
 ],
 "metadata": {
  "kernelspec": {
   "display_name": "Python 3 (ipykernel)",
   "language": "python",
   "name": "python3"
  },
  "language_info": {
   "codemirror_mode": {
    "name": "ipython",
    "version": 3
   },
   "file_extension": ".py",
   "mimetype": "text/x-python",
   "name": "python",
   "nbconvert_exporter": "python",
   "pygments_lexer": "ipython3",
   "version": "3.12.4"
  }
 },
 "nbformat": 4,
 "nbformat_minor": 5
}
